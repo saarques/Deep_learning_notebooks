{
 "cells": [
  {
   "cell_type": "markdown",
   "metadata": {
    "_uuid": "6b8ff9f566e7fb427021b8c14abc168c0cfdd504"
   },
   "source": [
    "# **Visualizing Weights in a Neural Network**\n",
    "\n",
    "This Code is to train a model using Keras and then visualizing the weights in the neural network. "
   ]
  },
  {
   "cell_type": "code",
   "execution_count": 1,
   "metadata": {
    "_cell_guid": "b1076dfc-b9ad-4769-8c92-a6c4dae69d19",
    "_uuid": "8f2839f25d086af736a60e9eeb907d3b93b6e0e5"
   },
   "outputs": [
    {
     "name": "stdout",
     "output_type": "stream",
     "text": [
      "['hmnist_28_28_RGB.csv', 'hmnist_28_28_L.csv', 'ham10000_images_part_2', 'ham10000_images_part_1', 'hmnist_8_8_RGB.csv', 'HAM10000_metadata.csv', 'hmnist_8_8_L.csv']\n"
     ]
    }
   ],
   "source": [
    "# This Python 3 environment comes with many helpful analytics libraries installed\n",
    "# It is defined by the kaggle/python docker image: https://github.com/kaggle/docker-python\n",
    "# For example, here's several helpful packages to load in \n",
    "\n",
    "import numpy as np # linear algebra\n",
    "import pandas as pd # data processing, CSV file I/O (e.g. pd.read_csv)\n",
    "\n",
    "# Input data files are available in the \"../input/\" directory.\n",
    "# For example, running this (by clicking run or pressing Shift+Enter) will list the files in the input directory\n",
    "\n",
    "import os\n",
    "print(os.listdir(\"../input\"))\n",
    "base_add = os.path.join('..', 'input')\n",
    "# Any results you write to the current directory are saved as output."
   ]
  },
  {
   "cell_type": "markdown",
   "metadata": {
    "_uuid": "39da0332766b769292b544cc4f5bab88352cd987"
   },
   "source": [
    "## Importing essential libraries"
   ]
  },
  {
   "cell_type": "code",
   "execution_count": 2,
   "metadata": {
    "_cell_guid": "79c7e3d0-c299-4dcb-8224-4455121ee9b0",
    "_uuid": "d629ff2d2480ee46fbb7e2d37f6b5fab8052498a"
   },
   "outputs": [
    {
     "name": "stderr",
     "output_type": "stream",
     "text": [
      "Using TensorFlow backend.\n"
     ]
    }
   ],
   "source": [
    "import seaborn as sns\n",
    "import matplotlib.pyplot as plt\n",
    "from glob import glob\n",
    "%matplotlib inline\n",
    "from PIL import Image\n",
    "from sklearn.model_selection import train_test_split\n",
    "from sklearn.preprocessing import label_binarize\n",
    "from sklearn.metrics import confusion_matrix\n",
    "\n",
    "import keras\n",
    "from keras.utils.np_utils import to_categorical\n",
    "from keras.models import Sequential\n",
    "from keras.layers import Dense, Dropout, Flatten, Conv2D, MaxPool2D\n",
    "from keras import backend as K\n",
    "import itertools\n",
    "from keras.optimizers import Adam\n",
    "from keras.layers.normalization import BatchNormalization\n",
    "from keras.preprocessing.image import ImageDataGenerator\n",
    "from keras.callbacks import ReduceLROnPlateau"
   ]
  },
  {
   "cell_type": "code",
   "execution_count": 3,
   "metadata": {
    "_uuid": "36cd749b411d85479a7eb2e7755a8ca3dc80d0b2"
   },
   "outputs": [],
   "source": [
    "image_path_dict = {os.path.splitext(os.path.basename(x))[0]: x for x in glob(os.path.join(base_add, '*', '*.jpg'))}\n",
    "lesion_type_dict = {'nv': 'Melanocytic nevi',\n",
    "    'mel': 'Melanoma',\n",
    "    'bkl': 'Benign keratosis-like lesions ',\n",
    "    'bcc': 'Basal cell carcinoma',\n",
    "    'akiec': 'Actinic keratoses',\n",
    "    'vasc': 'Vascular lesions',\n",
    "    'df': 'Dermatofibroma'}\n",
    "df = pd.read_csv(os.path.join(base_add, 'HAM10000_metadata.csv'))"
   ]
  },
  {
   "cell_type": "code",
   "execution_count": 4,
   "metadata": {
    "_uuid": "2f4d2e80906ad2319d3ba0e4b335aa01ffb3226f"
   },
   "outputs": [
    {
     "data": {
      "text/html": [
       "<div>\n",
       "<style scoped>\n",
       "    .dataframe tbody tr th:only-of-type {\n",
       "        vertical-align: middle;\n",
       "    }\n",
       "\n",
       "    .dataframe tbody tr th {\n",
       "        vertical-align: top;\n",
       "    }\n",
       "\n",
       "    .dataframe thead th {\n",
       "        text-align: right;\n",
       "    }\n",
       "</style>\n",
       "<table border=\"1\" class=\"dataframe\">\n",
       "  <thead>\n",
       "    <tr style=\"text-align: right;\">\n",
       "      <th></th>\n",
       "      <th>lesion_id</th>\n",
       "      <th>image_id</th>\n",
       "      <th>dx</th>\n",
       "      <th>dx_type</th>\n",
       "      <th>age</th>\n",
       "      <th>sex</th>\n",
       "      <th>localization</th>\n",
       "      <th>cell_type</th>\n",
       "      <th>path</th>\n",
       "      <th>dx_code</th>\n",
       "    </tr>\n",
       "  </thead>\n",
       "  <tbody>\n",
       "    <tr>\n",
       "      <th>9496</th>\n",
       "      <td>HAM_0003968</td>\n",
       "      <td>ISIC_0033495</td>\n",
       "      <td>nv</td>\n",
       "      <td>consensus</td>\n",
       "      <td>35.0</td>\n",
       "      <td>female</td>\n",
       "      <td>back</td>\n",
       "      <td>Melanocytic nevi</td>\n",
       "      <td>../input/ham10000_images_part_2/ISIC_0033495.jpg</td>\n",
       "      <td>5</td>\n",
       "    </tr>\n",
       "    <tr>\n",
       "      <th>2252</th>\n",
       "      <td>HAM_0006899</td>\n",
       "      <td>ISIC_0025128</td>\n",
       "      <td>mel</td>\n",
       "      <td>histo</td>\n",
       "      <td>80.0</td>\n",
       "      <td>female</td>\n",
       "      <td>lower extremity</td>\n",
       "      <td>Melanoma</td>\n",
       "      <td>../input/ham10000_images_part_1/ISIC_0025128.jpg</td>\n",
       "      <td>4</td>\n",
       "    </tr>\n",
       "    <tr>\n",
       "      <th>6420</th>\n",
       "      <td>HAM_0003896</td>\n",
       "      <td>ISIC_0030952</td>\n",
       "      <td>nv</td>\n",
       "      <td>follow_up</td>\n",
       "      <td>35.0</td>\n",
       "      <td>male</td>\n",
       "      <td>abdomen</td>\n",
       "      <td>Melanocytic nevi</td>\n",
       "      <td>../input/ham10000_images_part_2/ISIC_0030952.jpg</td>\n",
       "      <td>5</td>\n",
       "    </tr>\n",
       "  </tbody>\n",
       "</table>\n",
       "</div>"
      ],
      "text/plain": [
       "        lesion_id   ...   dx_code\n",
       "9496  HAM_0003968   ...         5\n",
       "2252  HAM_0006899   ...         4\n",
       "6420  HAM_0003896   ...         5\n",
       "\n",
       "[3 rows x 10 columns]"
      ]
     },
     "execution_count": 4,
     "metadata": {},
     "output_type": "execute_result"
    }
   ],
   "source": [
    "df['cell_type'] = df['dx'].map(lesion_type_dict.get)\n",
    "df['path'] = df['image_id'].map(image_path_dict.get)\n",
    "df['dx_code'] = pd.Categorical(df['dx']).codes\n",
    "df.sample(3)"
   ]
  },
  {
   "cell_type": "code",
   "execution_count": 5,
   "metadata": {
    "_uuid": "d94ad54c81451969b36b3606c0c51a0edd52c6fc"
   },
   "outputs": [
    {
     "name": "stdout",
     "output_type": "stream",
     "text": [
      "<class 'pandas.core.frame.DataFrame'>\n",
      "RangeIndex: 10015 entries, 0 to 10014\n",
      "Data columns (total 10 columns):\n",
      "lesion_id       10015 non-null object\n",
      "image_id        10015 non-null object\n",
      "dx              10015 non-null object\n",
      "dx_type         10015 non-null object\n",
      "age             10015 non-null float64\n",
      "sex             10015 non-null object\n",
      "localization    10015 non-null object\n",
      "cell_type       10015 non-null object\n",
      "path            10015 non-null object\n",
      "dx_code         10015 non-null int8\n",
      "dtypes: float64(1), int8(1), object(8)\n",
      "memory usage: 714.0+ KB\n"
     ]
    }
   ],
   "source": [
    "df['age'].fillna(df['age'].mean(), inplace = True)\n",
    "df.info()"
   ]
  },
  {
   "cell_type": "code",
   "execution_count": 6,
   "metadata": {
    "_uuid": "c30a8fadd190f0149ec0e4c3d7d72f8c227a33f7"
   },
   "outputs": [
    {
     "data": {
      "text/plain": [
       "<matplotlib.axes._subplots.AxesSubplot at 0x7f649d4423c8>"
      ]
     },
     "execution_count": 6,
     "metadata": {},
     "output_type": "execute_result"
    },
    {
     "data": {
      "image/png": "[encoded data removed]",
      "text/plain": [
       "<Figure size 432x288 with 1 Axes>"
      ]
     },
     "metadata": {},
     "output_type": "display_data"
    }
   ],
   "source": [
    "df['cell_type'].value_counts().plot(kind = 'bar')"
   ]
  },
  {
   "cell_type": "code",
   "execution_count": 7,
   "metadata": {
    "_uuid": "77e1f401f5f0ce1487cd9630d45eada271a87d38"
   },
   "outputs": [
    {
     "data": {
      "text/plain": [
       "<matplotlib.axes._subplots.AxesSubplot at 0x7f649d37eef0>"
      ]
     },
     "execution_count": 7,
     "metadata": {},
     "output_type": "execute_result"
    },
    {
     "data": {
      "image/png": "[encoded data removed]",
      "text/plain": [
       "<Figure size 432x288 with 1 Axes>"
      ]
     },
     "metadata": {},
     "output_type": "display_data"
    }
   ],
   "source": [
    "df['age'].hist(bins = 20)"
   ]
  },
  {
   "cell_type": "code",
   "execution_count": 8,
   "metadata": {
    "_uuid": "d2f1703d8a71377668303ab8501368bb8b711b10"
   },
   "outputs": [],
   "source": [
    "df['image'] = df['path'].map(lambda x: np.asarray(Image.open(x).resize((100, 75))))"
   ]
  },
  {
   "cell_type": "code",
   "execution_count": 9,
   "metadata": {
    "_uuid": "a30d94331a4391dc198263ee6985f039fdf6eb66"
   },
   "outputs": [
    {
     "data": {
      "text/plain": [
       "(75, 100, 3)    10015\n",
       "Name: image, dtype: int64"
      ]
     },
     "execution_count": 9,
     "metadata": {},
     "output_type": "execute_result"
    }
   ],
   "source": [
    "df['image'].map(lambda x: x.shape).value_counts()"
   ]
  },
  {
   "cell_type": "code",
   "execution_count": 10,
   "metadata": {
    "_uuid": "15632f1ecb1f62ecd6a4551f6cfb419b03a2cab6"
   },
   "outputs": [],
   "source": [
    "feats = df.drop(['dx_code'], axis = 1)\n",
    "target = df['dx_code']"
   ]
  },
  {
   "cell_type": "code",
   "execution_count": 11,
   "metadata": {
    "_uuid": "1bf450856499ca2041c8f5d41e3ae0cd2ccd6432"
   },
   "outputs": [],
   "source": [
    "x_train, x_test, y_train, y_test = train_test_split(feats, target, test_size = 0.2)"
   ]
  },
  {
   "cell_type": "code",
   "execution_count": 12,
   "metadata": {
    "_uuid": "9cd26504d3f8d9c70301d4ed0abdbe98688b05df"
   },
   "outputs": [],
   "source": [
    "# Normalization\n",
    "x_train = np.asarray(x_train['image'].tolist())\n",
    "x_test = np.asarray(x_test['image'].tolist())\n",
    "\n",
    "x_train_mean = np.mean(x_train)\n",
    "x_test_mean = np.mean(x_test)\n",
    "\n",
    "x_train_std = np.std(x_train)\n",
    "x_test_std = np.std(x_test)\n",
    "\n",
    "x_train = (x_train - x_train_mean)/x_train_std\n",
    "x_test = (x_test - x_test_mean)/x_test_std"
   ]
  },
  {
   "cell_type": "code",
   "execution_count": 13,
   "metadata": {
    "_uuid": "4198a20bf2a888cc005cf79ffef2e256118a8683"
   },
   "outputs": [],
   "source": [
    "# Label Encodeing\n",
    "y_train = to_categorical(y_train, num_classes = 7)\n",
    "y_test = to_categorical(y_test, num_classes = 7)"
   ]
  },
  {
   "cell_type": "code",
   "execution_count": 14,
   "metadata": {
    "_uuid": "218fc095bb82006f20342c48483e2ba0f3a1b05e"
   },
   "outputs": [],
   "source": [
    "# Reshape images in 3 dimensions\n",
    "x_train = x_train.reshape(x_train.shape[0], *(75, 100, 3))\n",
    "x_test = x_test.reshape(x_test.shape[0], *(75, 100, 3))"
   ]
  },
  {
   "cell_type": "markdown",
   "metadata": {
    "_uuid": "60b70650165af8a9faa003a260d8bb870e4137e8"
   },
   "source": [
    "### Creating model of Layers"
   ]
  },
  {
   "cell_type": "code",
   "execution_count": 15,
   "metadata": {
    "_uuid": "b831e9b20218035a54bb46638faaa59e64bea7d3"
   },
   "outputs": [
    {
     "name": "stdout",
     "output_type": "stream",
     "text": [
      "_________________________________________________________________\n",
      "Layer (type)                 Output Shape              Param #   \n",
      "=================================================================\n",
      "conv2d_1 (Conv2D)            (None, 75, 100, 32)       896       \n",
      "_________________________________________________________________\n",
      "conv2d_2 (Conv2D)            (None, 75, 100, 32)       9248      \n",
      "_________________________________________________________________\n",
      "max_pooling2d_1 (MaxPooling2 (None, 37, 50, 32)        0         \n",
      "_________________________________________________________________\n",
      "dropout_1 (Dropout)          (None, 37, 50, 32)        0         \n",
      "_________________________________________________________________\n",
      "conv2d_3 (Conv2D)            (None, 37, 50, 64)        18496     \n",
      "_________________________________________________________________\n",
      "conv2d_4 (Conv2D)            (None, 37, 50, 64)        36928     \n",
      "_________________________________________________________________\n",
      "max_pooling2d_2 (MaxPooling2 (None, 18, 25, 64)        0         \n",
      "_________________________________________________________________\n",
      "dropout_2 (Dropout)          (None, 18, 25, 64)        0         \n",
      "_________________________________________________________________\n",
      "flatten_1 (Flatten)          (None, 28800)             0         \n",
      "_________________________________________________________________\n",
      "dense_1 (Dense)              (None, 128)               3686528   \n",
      "_________________________________________________________________\n",
      "dropout_3 (Dropout)          (None, 128)               0         \n",
      "_________________________________________________________________\n",
      "dense_2 (Dense)              (None, 7)                 903       \n",
      "=================================================================\n",
      "Total params: 3,752,999\n",
      "Trainable params: 3,752,999\n",
      "Non-trainable params: 0\n",
      "_________________________________________________________________\n"
     ]
    }
   ],
   "source": [
    "# Set CNN model\n",
    "# Our system of layers => [[Conv2D -> relu]*2 -> MaxPool2D -> Dropout]*2 -> Flatten -> Dense\n",
    "# -> Dropout -> Out\n",
    "input_shape = (75, 100, 3)\n",
    "num_classes = 7\n",
    "\n",
    "model = Sequential()\n",
    "model.add(Conv2D(32, kernel_size = (3, 3), activation = 'relu', padding = 'Same', input_shape = input_shape))\n",
    "model.add(Conv2D(32, kernel_size = (3, 3), activation = 'relu', padding = 'Same'))\n",
    "model.add(MaxPool2D(pool_size = (2, 2)))\n",
    "model.add(Dropout(0.25))\n",
    "\n",
    "model.add(Conv2D(64, kernel_size = (3, 3), activation = 'relu', padding = 'Same'))\n",
    "model.add(Conv2D(64, kernel_size = (3, 3), activation = 'relu', padding = 'Same'))\n",
    "model.add(MaxPool2D(pool_size = (2, 2)))\n",
    "model.add(Dropout(0.40))\n",
    "\n",
    "model.add(Flatten())\n",
    "model.add(Dense(128, activation='relu'))\n",
    "model.add(Dropout(0.5))\n",
    "model.add(Dense(num_classes, activation='softmax'))\n",
    "model.summary()"
   ]
  },
  {
   "cell_type": "code",
   "execution_count": 16,
   "metadata": {
    "_uuid": "94bd2db28aec41bc7ac02e942b86e30f30917179"
   },
   "outputs": [],
   "source": [
    "# Define the optimizer\n",
    "optimizer = Adam(lr = .001, beta_1 = .9, beta_2 = .999, epsilon = None, decay = .0, amsgrad = False)"
   ]
  },
  {
   "cell_type": "code",
   "execution_count": 17,
   "metadata": {
    "_uuid": "ffa49c4b978b5f80162a8c0cce830459566882e5"
   },
   "outputs": [],
   "source": [
    "# Compile the model\n",
    "model.compile(optimizer = optimizer, loss = 'categorical_crossentropy', metrics = ['accuracy'])"
   ]
  },
  {
   "cell_type": "code",
   "execution_count": 18,
   "metadata": {
    "_uuid": "77cad754453930d6464c06098b1ab717c99b1816"
   },
   "outputs": [],
   "source": [
    "# Set learning rate annealer\n",
    "learning_rate_reduction = ReduceLROnPlateau(monitor = 'val_acc', patience = 3, verbose = 1, \n",
    "                                           factor = 0.5, min_lr = 0.00001)"
   ]
  },
  {
   "cell_type": "code",
   "execution_count": 19,
   "metadata": {
    "_uuid": "430db0c933d6cdca81e0011cd8e24c91a60d1aa1"
   },
   "outputs": [],
   "source": [
    "# Data Augmentation\n",
    "datagen = ImageDataGenerator(featurewise_center = False, samplewise_center = False,\n",
    "                            featurewise_std_normalization = False, samplewise_std_normalization = False, \n",
    "                            zca_whitening = False, rotation_range = 10, zoom_range = 0.1, \n",
    "                            width_shift_range = 0.1, height_shift_range = 0.1, horizontal_flip = False, \n",
    "                            vertical_flip = False)\n",
    "datagen.fit(x_train)"
   ]
  },
  {
   "cell_type": "markdown",
   "metadata": {
    "_uuid": "b6e546c52d9db1b250a0f499681c6394f9e9a893"
   },
   "source": [
    "### Fitting the Model"
   ]
  },
  {
   "cell_type": "code",
   "execution_count": 20,
   "metadata": {
    "_uuid": "2754a0372cf4a88d9e9736ef2890c83bb2f28f4a"
   },
   "outputs": [
    {
     "name": "stdout",
     "output_type": "stream",
     "text": [
      "Epoch 1/25\n",
      "801/801 [==============================] - 25s 31ms/step - loss: 1.0140 - acc: 0.6642\n",
      "Epoch 2/25\n",
      "  7/801 [..............................] - ETA: 19s - loss: 0.8359 - acc: 0.7000"
     ]
    },
    {
     "name": "stderr",
     "output_type": "stream",
     "text": [
      "/opt/conda/lib/python3.6/site-packages/keras/callbacks.py:1109: RuntimeWarning: Reduce LR on plateau conditioned on metric `val_acc` which is not available. Available metrics are: loss,acc,lr\n",
      "  (self.monitor, ','.join(list(logs.keys()))), RuntimeWarning\n"
     ]
    },
    {
     "name": "stdout",
     "output_type": "stream",
     "text": [
      "801/801 [==============================] - 20s 25ms/step - loss: 0.9196 - acc: 0.6709\n",
      "Epoch 3/25\n",
      "801/801 [==============================] - 20s 25ms/step - loss: 0.8876 - acc: 0.6775\n",
      "Epoch 4/25\n",
      "801/801 [==============================] - 20s 25ms/step - loss: 0.8603 - acc: 0.6866\n",
      "Epoch 5/25\n",
      "801/801 [==============================] - 20s 25ms/step - loss: 0.8357 - acc: 0.6931\n",
      "Epoch 6/25\n",
      "801/801 [==============================] - 20s 25ms/step - loss: 0.8333 - acc: 0.6929\n",
      "Epoch 7/25\n",
      "801/801 [==============================] - 20s 25ms/step - loss: 0.8012 - acc: 0.7064\n",
      "Epoch 8/25\n",
      "801/801 [==============================] - 20s 25ms/step - loss: 0.7984 - acc: 0.7076\n",
      "Epoch 9/25\n",
      "801/801 [==============================] - 20s 25ms/step - loss: 0.7785 - acc: 0.7164\n",
      "Epoch 10/25\n",
      "801/801 [==============================] - 20s 25ms/step - loss: 0.7749 - acc: 0.7165\n",
      "Epoch 11/25\n",
      "801/801 [==============================] - 20s 25ms/step - loss: 0.7678 - acc: 0.7169\n",
      "Epoch 12/25\n",
      "801/801 [==============================] - 20s 25ms/step - loss: 0.7604 - acc: 0.7287\n",
      "Epoch 13/25\n",
      "801/801 [==============================] - 20s 25ms/step - loss: 0.7366 - acc: 0.7335\n",
      "Epoch 14/25\n",
      "801/801 [==============================] - 20s 25ms/step - loss: 0.7402 - acc: 0.7291\n",
      "Epoch 15/25\n",
      "801/801 [==============================] - 20s 25ms/step - loss: 0.7364 - acc: 0.7283\n",
      "Epoch 16/25\n",
      "801/801 [==============================] - 20s 25ms/step - loss: 0.7204 - acc: 0.7337\n",
      "Epoch 17/25\n",
      "801/801 [==============================] - 20s 25ms/step - loss: 0.7236 - acc: 0.7337\n",
      "Epoch 18/25\n",
      "801/801 [==============================] - 20s 25ms/step - loss: 0.7258 - acc: 0.7362\n",
      "Epoch 19/25\n",
      "801/801 [==============================] - 20s 25ms/step - loss: 0.7079 - acc: 0.7365\n",
      "Epoch 20/25\n",
      "244/801 [========>.....................] - ETA: 14s - loss: 0.6811 - acc: 0.7480"
     ]
    }
   ],
   "source": [
    "# Fit the model\n",
    "# epochs = 50 # Accuracy of 0.7682\n",
    "epochs = 25\n",
    "batch_size = 10\n",
    "history = model.fit_generator(datagen.flow(x_train, y_train, batch_size = batch_size), \n",
    "                             epochs = epochs, verbose = 1, steps_per_epoch = x_train.shape[0] // batch_size,\n",
    "                             callbacks = [learning_rate_reduction])"
   ]
  },
  {
   "cell_type": "code",
   "execution_count": 21,
   "metadata": {
    "_uuid": "00e17692ba2bdfc9d22088345677e7bb76ce1b96"
   },
   "outputs": [],
   "source": [
    "from matplotlib import figure"
   ]
  },
  {
   "cell_type": "code",
   "execution_count": 22,
   "metadata": {
    "_uuid": "d81f36c04bd7d28e829c9cdcbaa0be5341e8956f"
   },
   "outputs": [],
   "source": [
    "def plot_weight_image(layer, x, y):\n",
    "    weights = model.layers[layer].get_weights()\n",
    "    fig = plt.figure()\n",
    "    for j in range(len(weights[0])):\n",
    "        ax = fig.add_subplot(y, x, j+1)\n",
    "        ax.matshow(weights[0][j][0], cmap = plt.cm.binary)\n",
    "        plt.xticks(np.array([]))\n",
    "        plt.yticks(np.array([]))\n",
    "    plt.tight_layout()\n",
    "    return plt"
   ]
  },
  {
   "cell_type": "code",
   "execution_count": 23,
   "metadata": {
    "_kg_hide-output": true,
    "_uuid": "9c9577f1c4cef369aef152a8f0997b3270702a05"
   },
   "outputs": [
    {
     "name": "stdout",
     "output_type": "stream",
     "text": [
      "[[[-2.8900404e-02  1.3593194e-01  3.5204716e-02]\n",
      "  [-2.0115936e-02 -5.5724226e-02  2.7227559e-04]\n",
      "  [-1.4562674e-01 -3.4424834e-02  6.7236826e-02]]\n",
      "\n",
      " [[-2.2601959e-01 -8.2309088e-03  1.6767749e-01]\n",
      "  [-5.8721740e-02  1.5585414e-02  1.7444366e-01]\n",
      "  [-1.0679446e-01 -4.3124463e-02  1.8256445e-01]]\n",
      "\n",
      " [[-5.5422172e-02  4.9185079e-02  2.4140106e-01]\n",
      "  [-4.4556390e-02  2.5027502e-02  1.0815277e-01]\n",
      "  [-3.3505583e-01 -1.2938271e-01  2.3044953e-02]]]\n",
      "****************************************\n",
      "[[[-0.12482049 -0.12398676  0.12780525]\n",
      "  [-0.16014296  0.08461332  0.01659511]\n",
      "  [-0.32271823 -0.15565911  0.13523762]]\n",
      "\n",
      " [[ 0.15772372  0.02287562 -0.07914299]\n",
      "  [-0.08210208 -0.05587453  0.10982145]\n",
      "  [ 0.16116509  0.01561329 -0.06394925]]\n",
      "\n",
      " [[-0.00221225 -0.16821694  0.1268907 ]\n",
      "  [ 0.1054718   0.00342105  0.15779196]\n",
      "  [ 0.05146346  0.10416764 -0.07664261]]]\n"
     ]
    },
    {
     "data": {
      "text/plain": [
       "(3, 3, 3, 32)"
      ]
     },
     "execution_count": 23,
     "metadata": {},
     "output_type": "execute_result"
    }
   ],
   "source": [
    "a = model.layers[0].get_weights()\n",
    "print(a[0][:, :, :, 0])\n",
    "print(\"*\"*40)\n",
    "print(a[0][:, :, :, 1])\n",
    "a[0].shape"
   ]
  },
  {
   "cell_type": "markdown",
   "metadata": {
    "_uuid": "99bea3c286a8948bf3297314190e17132f510a40"
   },
   "source": [
    "### Main Function to create and save image of weight."
   ]
  },
  {
   "cell_type": "code",
   "execution_count": 24,
   "metadata": {
    "_kg_hide-output": false,
    "_uuid": "d3192f52826cbbd1d6d072db294ac08671bc0786"
   },
   "outputs": [],
   "source": [
    "np.random.seed(12345)\n",
    "def save_image(layer):\n",
    "    a = model.layers[layer].get_weights()\n",
    "    for i in range(100):\n",
    "        for j in range(100):\n",
    "            try:\n",
    "                grid = a[0][:, :, i, j]\n",
    "                img = plt.imshow(grid, interpolation = 'spline16', cmap = 'plasma')\n",
    "                plt.axis('off')\n",
    "                plt.tight_layout()\n",
    "                plt.savefig(\"test{} {}-{}.jpg\".format(layer, i , j))\n",
    "#                 Image.open(\"test0 1-12.jpg\").resize((600, 600))\n",
    "                \n",
    "#                 print(\"Layer no.:\", layer)\n",
    "#                 print(\"Image no.:\", i, j)\n",
    "    #           plt.imsave(\"Pic{}.jpg\".format(i))\n",
    "#                 plt.show()\n",
    "            except:\n",
    "                break"
   ]
  },
  {
   "cell_type": "code",
   "execution_count": 25,
   "metadata": {
    "_uuid": "cfefd56a3dfcb5678b5710c9b2b327864c7048cd"
   },
   "outputs": [
    {
     "data": {
      "image/png": "[encoded data removed]",
      "text/plain": [
       "<Figure size 432x288 with 1 Axes>"
      ]
     },
     "metadata": {},
     "output_type": "display_data"
    }
   ],
   "source": [
    "# We are creating these images for weights of only 1st covolutional layer now, \n",
    "# all of them would take a lot more time. \n",
    "layers = [0]\n",
    "# , 1, 4, 5]\n",
    "for layer in layers:\n",
    "    save_image(layer)"
   ]
  },
  {
   "cell_type": "code",
   "execution_count": 26,
   "metadata": {
    "_uuid": "33ced76b6e805a940db1d74a72e94c7cfb055ea0"
   },
   "outputs": [],
   "source": []
  },
  {
   "cell_type": "code",
   "execution_count": 26,
   "metadata": {
    "_uuid": "813ea4e5e34da7081ee25b75bd87fc655a632f84"
   },
   "outputs": [],
   "source": []
  }
 ],
 "metadata": {
  "kernelspec": {
   "display_name": "Python 3",
   "language": "python",
   "name": "python3"
  },
  "language_info": {
   "codemirror_mode": {
    "name": "ipython",
    "version": 3
   },
   "file_extension": ".py",
   "mimetype": "text/x-python",
   "name": "python",
   "nbconvert_exporter": "python",
   "pygments_lexer": "ipython3",
   "version": "3.6.6"
  }
 },
 "nbformat": 4,
 "nbformat_minor": 1
}
